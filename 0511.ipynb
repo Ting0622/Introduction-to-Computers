{
  "nbformat": 4,
  "nbformat_minor": 0,
  "metadata": {
    "colab": {
      "name": "0511.ipynb",
      "provenance": [],
      "authorship_tag": "ABX9TyMF8w8pYXoBEbKZ7HZYrFTC",
      "include_colab_link": true
    },
    "kernelspec": {
      "name": "python3",
      "display_name": "Python 3"
    },
    "language_info": {
      "name": "python"
    }
  },
  "cells": [
    {
      "cell_type": "markdown",
      "metadata": {
        "id": "view-in-github",
        "colab_type": "text"
      },
      "source": [
        "<a href=\"https://colab.research.google.com/github/Ting0622/Introduction-to-Computers/blob/main/0511.ipynb\" target=\"_parent\"><img src=\"https://colab.research.google.com/assets/colab-badge.svg\" alt=\"Open In Colab\"/></a>"
      ]
    },
    {
      "cell_type": "code",
      "execution_count": 1,
      "metadata": {
        "colab": {
          "base_uri": "https://localhost:8080/"
        },
        "id": "YRfqE9-voLRs",
        "outputId": "1e149e72-deed-46b7-8e15-3aeb5954ebaa"
      },
      "outputs": [
        {
          "output_type": "stream",
          "name": "stdout",
          "text": [
            "請輸入你的體溫37.5\n",
            "體溫過高!\n"
          ]
        }
      ],
      "source": [
        "temp=float(input('請輸入你的體溫'))\n",
        "if temp>=37.5:\n",
        "    print('體溫過高!')\n",
        "elif temp>=37.5 and temp<37.4:\n",
        "    print('體溫略高！')\n",
        "elif temp>=34 and temp<36.9:\n",
        "    print('體溫正常！')\n",
        "else:\n",
        "    print('體溫異常，請重新測量!')"
      ]
    },
    {
      "cell_type": "code",
      "source": [
        "money=int(input('請輸入購物金額：'))\n",
        "if(money>=10000):\n",
        "    if(money>=100000):\n",
        "      print(\"八折\",money*0.8,end=\"元\\n\")\n",
        "    elif(money>=50000):\n",
        "      print(\"八五折\",money*0.85,end=\"元\\n\")\n",
        "    elif(money>=30000):\n",
        "      print(\"九折\",money*0.9,end=\"元\\n\")\n",
        "    else:\n",
        "      print(\"九五折\",money*0.95,end=\"元\\n\")\n",
        "else:\n",
        " print(\"沒打折\",money,end=\"元\\n\")"
      ],
      "metadata": {
        "colab": {
          "base_uri": "https://localhost:8080/"
        },
        "id": "JkRcsJ2IoUH8",
        "outputId": "ac58c3fc-4eb5-41d7-ca14-a8897ce66ecb"
      },
      "execution_count": 2,
      "outputs": [
        {
          "output_type": "stream",
          "name": "stdout",
          "text": [
            "請輸入購物金額：50000\n",
            "八五折 42500.0元\n"
          ]
        }
      ]
    },
    {
      "cell_type": "code",
      "source": [
        "profit=int(input('請輸今年收入金額：'))\n",
        "if(profit>=300000):\n",
        "    if(profit>=2000000):\n",
        "      print(\"付稅金額:\",profit*0.3,end=\"元\\n\")\n",
        "    elif(profit>=1000000):\n",
        "      print(\"付稅金額:\",profit*0.21,end=\"元\\n\")\n",
        "    elif(money>=6000000):\n",
        "      print(\"付稅金額:\",profit*0.13,end=\"元\\n\")\n",
        "    else:\n",
        "      print(\"付稅金額:\",profit*0.06,end=\"元\\n\")\n",
        "else:\n",
        " print(\"付稅金額:\",profit*0,end=\"元\\n\")"
      ],
      "metadata": {
        "colab": {
          "base_uri": "https://localhost:8080/"
        },
        "id": "5gRtnd5Uogtz",
        "outputId": "5e71203a-485c-4492-97be-b6b6b6595843"
      },
      "execution_count": 3,
      "outputs": [
        {
          "output_type": "stream",
          "name": "stdout",
          "text": [
            "請輸今年收入金額：2000000\n",
            "付稅金額: 600000.0元\n"
          ]
        }
      ]
    },
    {
      "cell_type": "code",
      "source": [
        "season=int(input('請輸入月份：'))\n",
        "if(season>1 and season<=12):\n",
        "    if(season>=3and season<=5):\n",
        "      print(season,\"月份是春天！\")\n",
        "    elif(season>=6and season<=8):\n",
        "      print(season,\"月份是夏天！\")\n",
        "    elif(season>=9and season<=11):\n",
        "      print(season,\"月份是秋天！\")\n",
        "    else:\n",
        "      print(season,\"m,月份是冬天\")\n",
        "else:\n",
        " print(\"月份不在範圍內！\")"
      ],
      "metadata": {
        "colab": {
          "base_uri": "https://localhost:8080/"
        },
        "id": "Tbo2oMpxolWV",
        "outputId": "ac44c485-711d-497c-97a2-1e10a2895e66"
      },
      "execution_count": 5,
      "outputs": [
        {
          "output_type": "stream",
          "name": "stdout",
          "text": [
            "請輸入月份：15\n",
            "月份不在範圍內！\n"
          ]
        }
      ]
    },
    {
      "cell_type": "code",
      "source": [
        "score=int(input('請輸入成績：'))\n",
        "if(score>0 and season<=100):\n",
        "    if(score>=90):\n",
        "      print(\"A\")\n",
        "    elif(score>=80and score<89):\n",
        "      print(\"B\")\n",
        "    elif(score>=70 and score<79):\n",
        "      print(\"C\")\n",
        "    elif(score>=60and score<=69):\n",
        "      print(\"D\")\n",
        "else:\n",
        "    print(\"E\")"
      ],
      "metadata": {
        "colab": {
          "base_uri": "https://localhost:8080/"
        },
        "id": "dXtQHEXVqNI3",
        "outputId": "a1107077-8d9d-49a6-d96e-bc142b744e01"
      },
      "execution_count": 6,
      "outputs": [
        {
          "output_type": "stream",
          "name": "stdout",
          "text": [
            "請輸入成績：80\n",
            "B\n"
          ]
        }
      ]
    },
    {
      "cell_type": "code",
      "source": [
        ""
      ],
      "metadata": {
        "id": "XKOQq8zKscJy"
      },
      "execution_count": null,
      "outputs": []
    }
  ]
}