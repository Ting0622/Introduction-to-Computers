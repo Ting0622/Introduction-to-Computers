{
  "nbformat": 4,
  "nbformat_minor": 0,
  "metadata": {
    "colab": {
      "name": "0601.ipynb",
      "provenance": [],
      "authorship_tag": "ABX9TyP4eFURBl5wHO+Gm2YhWTu9",
      "include_colab_link": true
    },
    "kernelspec": {
      "name": "python3",
      "display_name": "Python 3"
    },
    "language_info": {
      "name": "python"
    }
  },
  "cells": [
    {
      "cell_type": "markdown",
      "metadata": {
        "id": "view-in-github",
        "colab_type": "text"
      },
      "source": [
        "<a href=\"https://colab.research.google.com/github/Ting0622/Introduction-to-Computers/blob/main/0601.ipynb\" target=\"_parent\"><img src=\"https://colab.research.google.com/assets/colab-badge.svg\" alt=\"Open In Colab\"/></a>"
      ]
    },
    {
      "cell_type": "code",
      "execution_count": null,
      "metadata": {
        "colab": {
          "base_uri": "https://localhost:8080/"
        },
        "id": "ztUAS49PrtRm",
        "outputId": "9af868d5-a04d-4764-df3d-2dff3bbba8e0"
      },
      "outputs": [
        {
          "output_type": "stream",
          "name": "stdout",
          "text": [
            "2*1= 22*2= 42*3= 62*4= 82*5=102*6=122*7=142*8=162*9=18\n",
            "3*1= 33*2= 63*3= 93*4=123*5=153*6=183*7=213*8=243*9=27\n",
            "4*1= 44*2= 84*3=124*4=164*5=204*6=244*7=284*8=324*9=36\n",
            "5*1= 55*2=105*3=155*4=205*5=255*6=305*7=355*8=405*9=45\n",
            "6*1= 66*2=126*3=186*4=246*5=306*6=366*7=426*8=486*9=54\n",
            "7*1= 77*2=147*3=217*4=287*5=357*6=427*7=497*8=567*9=63\n",
            "8*1= 88*2=168*3=248*4=328*5=408*6=488*7=568*8=648*9=72\n",
            "9*1= 99*2=189*3=279*4=369*5=459*6=549*7=639*8=729*9=81\n"
          ]
        }
      ],
      "source": [
        "for i in range(2,10):\n",
        "      for j in range(1,10):\n",
        "          product=i*j\n",
        "          print(\"%d*%d=%2d\"%(i,j,product),end=\"\")\n",
        "      print()"
      ]
    },
    {
      "cell_type": "code",
      "source": [
        "a=int(input('請輸入a的值：'))\n",
        "b=int(input('請輸入b的值：'))\n",
        "maxno=a*b\n",
        "for i in range(1,maxno+1):\n",
        "      if(i%a==0and i%b==0):\n",
        "          break\n",
        "print(\"%d和%d的最小公倍數＝%d\"%(a,b,i))"
      ],
      "metadata": {
        "colab": {
          "base_uri": "https://localhost:8080/"
        },
        "id": "B4TtPfV6ruPZ",
        "outputId": "3cfd84e2-9c35-4daf-e56c-c5d8a1410c78"
      },
      "execution_count": null,
      "outputs": [
        {
          "output_type": "stream",
          "name": "stdout",
          "text": [
            "請輸入a的值：5\n",
            "請輸入b的值：4\n",
            "5和4的最小公倍數＝20\n"
          ]
        }
      ]
    },
    {
      "cell_type": "code",
      "source": [
        "n=int(input(\"請輸入一個正整數：\"))\n",
        "for i in range(1,n+1):\n",
        "      if i %5==0:\n",
        "        continue\n",
        "      print(i,end=\" \")"
      ],
      "metadata": {
        "colab": {
          "base_uri": "https://localhost:8080/"
        },
        "id": "cjchA1k2tzzz",
        "outputId": "50f4c9e3-f615-4a55-e05b-769ce22e55f7"
      },
      "execution_count": null,
      "outputs": [
        {
          "output_type": "stream",
          "name": "stdout",
          "text": [
            "請輸入一個正整數：25\n",
            "1 2 3 4 6 7 8 9 11 12 13 14 16 17 18 19 21 22 23 24 "
          ]
        }
      ]
    },
    {
      "cell_type": "code",
      "source": [
        "total=n=0\n",
        "while(n<10):\n",
        "     n +=1\n",
        "     total+=n\n",
        "print(total)"
      ],
      "metadata": {
        "colab": {
          "base_uri": "https://localhost:8080/"
        },
        "id": "JPtV_ESBuwsq",
        "outputId": "daca4763-a02b-43a2-ac9a-d50e7cd5b286"
      },
      "execution_count": null,
      "outputs": [
        {
          "output_type": "stream",
          "name": "stdout",
          "text": [
            "55\n"
          ]
        }
      ]
    },
    {
      "cell_type": "code",
      "source": [
        "total=n=0\n",
        "while(n<=10):\n",
        "    total+=n\n",
        "    n +=1\n",
        "print(total)"
      ],
      "metadata": {
        "colab": {
          "base_uri": "https://localhost:8080/"
        },
        "id": "d-5MO-XavkJL",
        "outputId": "9d70ad72-192d-4d4b-a2cd-923e955eb07b"
      },
      "execution_count": null,
      "outputs": [
        {
          "output_type": "stream",
          "name": "stdout",
          "text": [
            "55\n"
          ]
        }
      ]
    },
    {
      "cell_type": "code",
      "source": [
        "total=n=0\n",
        "while n<=10:\n",
        "    total+=n\n",
        "    n +=1\n",
        "print(total)"
      ],
      "metadata": {
        "colab": {
          "base_uri": "https://localhost:8080/"
        },
        "id": "waJ1KXbLw3CL",
        "outputId": "07c5e722-cc86-4009-a74b-9fbb8bf4639e"
      },
      "execution_count": null,
      "outputs": [
        {
          "output_type": "stream",
          "name": "stdout",
          "text": [
            "55\n"
          ]
        }
      ]
    },
    {
      "cell_type": "code",
      "source": [
        "total=i=1\n",
        "n=int(input('請輸入正整數n的值：'))\n",
        "while i <=n:\n",
        "  total*=i\n",
        "  i+=1\n",
        "print('%d!=%d'%(n,total))"
      ],
      "metadata": {
        "colab": {
          "base_uri": "https://localhost:8080/"
        },
        "id": "FCRWbJq6v2I2",
        "outputId": "6e68649c-77e9-4df5-8afd-d23d9d52d6f1"
      },
      "execution_count": null,
      "outputs": [
        {
          "output_type": "stream",
          "name": "stdout",
          "text": [
            "請輸入正整數n的值：100\n",
            "100!=93326215443944152681699238856266700490715968264381621468592963895217599993229915608941463976156518286253697920827223758251185210916864000000000000000000000000\n"
          ]
        }
      ]
    },
    {
      "cell_type": "code",
      "source": [
        "a=eval(input())\n",
        "\n",
        "total = 0\n",
        "\n",
        "for x in range(1,a+1):\n",
        "  if(x%2==0):\n",
        "    total+=x\n",
        "\n",
        "print(total)\n",
        "\n",
        "b=eval(input())\n",
        "for b in range(1,b):\n",
        "  if(b%2+1==0):\n",
        "    total+=b\n",
        "\n",
        "print(total)"
      ],
      "metadata": {
        "id": "kOpvVtyG9yl-",
        "colab": {
          "base_uri": "https://localhost:8080/"
        },
        "outputId": "f0b2d11d-8dcc-4dfd-91ab-5edf332869c0"
      },
      "execution_count": null,
      "outputs": [
        {
          "output_type": "stream",
          "name": "stdout",
          "text": [
            "50\n",
            "650\n",
            "50\n",
            "650\n"
          ]
        }
      ]
    },
    {
      "cell_type": "code",
      "source": [
        "a=0\n",
        "for i in range(1,101):\n",
        "  if i%3==0 or i%7==0:\n",
        "    a+=i\n",
        "print('數值1~100中，所有是3或7倍數的數之總和=',a)"
      ],
      "metadata": {
        "id": "B3uCWeTM_xGf",
        "colab": {
          "base_uri": "https://localhost:8080/"
        },
        "outputId": "9f656f60-4fda-4457-ad2f-d7382c41a3d2"
      },
      "execution_count": null,
      "outputs": [
        {
          "output_type": "stream",
          "name": "stdout",
          "text": [
            "數值1~100中，所有是3或7倍數的數之總和= 2208\n"
          ]
        }
      ]
    },
    {
      "cell_type": "code",
      "source": [
        "total=n=0\n",
        "while(n<=50):\n",
        "  total+=n\n",
        "  n+=2\n",
        "print('0~50的偶數和結果是',total)\n",
        "total=0\n",
        "n=1\n",
        "while(n<=50):\n",
        "  total+=n\n",
        "  n+=2\n",
        "print('0~50的奇數和結果是',total)"
      ],
      "metadata": {
        "id": "KJNV9aJsZ6p7",
        "colab": {
          "base_uri": "https://localhost:8080/"
        },
        "outputId": "38612b06-d660-4fda-9c89-d80ba3e4a832"
      },
      "execution_count": null,
      "outputs": [
        {
          "output_type": "stream",
          "name": "stdout",
          "text": [
            "0~50的偶數和結果是 650\n",
            "0~50的奇數和結果是 625\n"
          ]
        }
      ]
    },
    {
      "cell_type": "code",
      "source": [
        "\n",
        "a=int(input('請輸入正整數：'))\n",
        "for b in range(a,0,-1):\n",
        "    for c in range (b,0,-1):\n",
        "      print('*',end='')\n",
        "    print()"
      ],
      "metadata": {
        "id": "fXWufTTVrhXb",
        "colab": {
          "base_uri": "https://localhost:8080/"
        },
        "outputId": "1a911b74-df22-453a-dec2-837fa5c89962"
      },
      "execution_count": null,
      "outputs": [
        {
          "output_type": "stream",
          "name": "stdout",
          "text": [
            "請輸入正整數：7\n",
            "*******\n",
            "******\n",
            "*****\n",
            "****\n",
            "***\n",
            "**\n",
            "*\n"
          ]
        }
      ]
    },
    {
      "cell_type": "code",
      "source": [
        "n=int(input('請輸入一個正整數：'))\n",
        "print(n,'的因數有',end='')\n",
        "for a in range(1,n+1):\n",
        "    if n%a==0:\n",
        "      print (a,end=' ')\n",
        "print()\n",
        "for i in range(2,n):\n",
        "    if n%i==0:\n",
        "      print(n,'不是質數')\n",
        "      break\n",
        "    else:\n",
        "        print(n,'是質數')\n",
        "        break"
      ],
      "metadata": {
        "id": "8_98CxOU1g61",
        "colab": {
          "base_uri": "https://localhost:8080/"
        },
        "outputId": "cacddef5-674d-4898-e520-af9bce94ba5e"
      },
      "execution_count": 4,
      "outputs": [
        {
          "output_type": "stream",
          "name": "stdout",
          "text": [
            "請輸入一個正整數：12\n",
            "12 的因數有1 2 3 4 6 12 \n",
            "12 不是質數\n"
          ]
        }
      ]
    },
    {
      "cell_type": "code",
      "source": [
        ""
      ],
      "metadata": {
        "id": "AN-g3BUVspb1"
      },
      "execution_count": null,
      "outputs": []
    }
  ]
}